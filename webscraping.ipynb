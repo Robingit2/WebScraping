{
 "cells": [
  {
   "cell_type": "code",
   "execution_count": 1,
   "id": "c958106c",
   "metadata": {},
   "outputs": [],
   "source": [
    "import pandas as pd\n",
    "import requests\n",
    "from bs4 import BeautifulSoup\n",
    "headers={'User-Agent':'Mozilla/5.0 (Windows NT 6.3; Win 64 ; x64) Apple WeKit /537.36(KHTML , like Gecko) Chrome/80.0.3987.162 Safari/537.36'}\n",
    "web_page = requests.get(\"https://www.collegenp.com/colleges\",headers=headers).text "
   ]
  },
  {
   "cell_type": "code",
   "execution_count": 6,
   "id": "18f0a84b",
   "metadata": {},
   "outputs": [],
   "source": [
    "soup = BeautifulSoup(web_page,'lxml')"
   ]
  },
  {
   "cell_type": "code",
   "execution_count": 5,
   "id": "ee38cd92",
   "metadata": {},
   "outputs": [],
   "source": [
    "#print(soup.prettify())"
   ]
  },
  {
   "cell_type": "code",
   "execution_count": 13,
   "id": "8197f4bf",
   "metadata": {},
   "outputs": [
    {
     "data": {
      "text/plain": [
       "' Filter'"
      ]
     },
     "execution_count": 13,
     "metadata": {},
     "output_type": "execute_result"
    }
   ],
   "source": [
    "soup.find_all('h3')[0].text"
   ]
  },
  {
   "cell_type": "code",
   "execution_count": 14,
   "id": "fedfaf5b",
   "metadata": {},
   "outputs": [
    {
     "data": {
      "text/plain": [
       "15"
      ]
     },
     "execution_count": 14,
     "metadata": {},
     "output_type": "execute_result"
    }
   ],
   "source": [
    "len(soup.find_all('h3'))"
   ]
  },
  {
   "cell_type": "code",
   "execution_count": 16,
   "id": "c485583e",
   "metadata": {},
   "outputs": [
    {
     "name": "stdout",
     "output_type": "stream",
     "text": [
      "Informatics College Pokhara, Pokhara\n",
      "ISMT College, Kathmandu\n",
      "Padmashree International College, Kathmandu\n",
      "The British College, Kathmandu\n",
      "Tribhuvan University (TU), Kathmandu\n",
      "Academy of Culinary Arts and Hospitality Management, Lalitpur\n",
      "Acme Engineering College, Kathmandu\n",
      "Advance Academy and Republica College, Lalitpur\n",
      "Alka Institute of Medical Sciences, Lalitpur\n",
      "Amrit Science Campus - ASCOL, Kathmandu\n"
     ]
    }
   ],
   "source": [
    "for i in soup.find_all('h3',class_ = 'college-name'):\n",
    "    print(i.text.strip())"
   ]
  },
  {
   "cell_type": "code",
   "execution_count": 18,
   "id": "58c8f8bf",
   "metadata": {},
   "outputs": [
    {
     "name": "stdout",
     "output_type": "stream",
     "text": [
      "Matepani, Pokhara\n",
      "Tinkune, Kathmandu\n",
      "Tinkune, Kathmandu\n",
      "Thapathali, Kathmandu\n",
      "Kirtipur, Kathmandu\n",
      "Lagankhel, Lalitpur\n",
      "Sitapaila, Kathmandu\n",
      "Kumaripati, Lalitpur\n",
      "Jwalakhel, Lalitpur\n",
      "Lainchaur, Kathmandu\n"
     ]
    }
   ],
   "source": [
    "for i in soup.find_all('span',class_ ='college-address'):\n",
    "    print(i.text.strip())"
   ]
  },
  {
   "cell_type": "code",
   "execution_count": 22,
   "id": "2c1c8bf3",
   "metadata": {},
   "outputs": [
    {
     "data": {
      "text/plain": [
       "10"
      ]
     },
     "execution_count": 22,
     "metadata": {},
     "output_type": "execute_result"
    }
   ],
   "source": [
    "college = soup.find_all('div', class_='media-body')\n",
    "len(college)"
   ]
  },
  {
   "cell_type": "code",
   "execution_count": 28,
   "id": "186e7673",
   "metadata": {},
   "outputs": [],
   "source": [
    "name=[]\n",
    "address = []\n",
    "for i in college:\n",
    "    name.append(i.find('h3',class_= 'college-name').text.strip())\n",
    "    address.append(i.find('span', class_= 'college-address').text.strip())"
   ]
  },
  {
   "cell_type": "code",
   "execution_count": 29,
   "id": "0c1790ef",
   "metadata": {},
   "outputs": [
    {
     "data": {
      "text/html": [
       "<div>\n",
       "<style scoped>\n",
       "    .dataframe tbody tr th:only-of-type {\n",
       "        vertical-align: middle;\n",
       "    }\n",
       "\n",
       "    .dataframe tbody tr th {\n",
       "        vertical-align: top;\n",
       "    }\n",
       "\n",
       "    .dataframe thead th {\n",
       "        text-align: right;\n",
       "    }\n",
       "</style>\n",
       "<table border=\"1\" class=\"dataframe\">\n",
       "  <thead>\n",
       "    <tr style=\"text-align: right;\">\n",
       "      <th></th>\n",
       "      <th>name</th>\n",
       "      <th>address</th>\n",
       "    </tr>\n",
       "  </thead>\n",
       "  <tbody>\n",
       "    <tr>\n",
       "      <th>0</th>\n",
       "      <td>Informatics College Pokhara, Pokhara</td>\n",
       "      <td>Matepani, Pokhara</td>\n",
       "    </tr>\n",
       "    <tr>\n",
       "      <th>1</th>\n",
       "      <td>ISMT College, Kathmandu</td>\n",
       "      <td>Tinkune, Kathmandu</td>\n",
       "    </tr>\n",
       "    <tr>\n",
       "      <th>2</th>\n",
       "      <td>Padmashree International College, Kathmandu</td>\n",
       "      <td>Tinkune, Kathmandu</td>\n",
       "    </tr>\n",
       "    <tr>\n",
       "      <th>3</th>\n",
       "      <td>The British College, Kathmandu</td>\n",
       "      <td>Thapathali, Kathmandu</td>\n",
       "    </tr>\n",
       "    <tr>\n",
       "      <th>4</th>\n",
       "      <td>Tribhuvan University (TU), Kathmandu</td>\n",
       "      <td>Kirtipur, Kathmandu</td>\n",
       "    </tr>\n",
       "  </tbody>\n",
       "</table>\n",
       "</div>"
      ],
      "text/plain": [
       "                                          name                address\n",
       "0         Informatics College Pokhara, Pokhara      Matepani, Pokhara\n",
       "1                      ISMT College, Kathmandu     Tinkune, Kathmandu\n",
       "2  Padmashree International College, Kathmandu     Tinkune, Kathmandu\n",
       "3               The British College, Kathmandu  Thapathali, Kathmandu\n",
       "4         Tribhuvan University (TU), Kathmandu    Kirtipur, Kathmandu"
      ]
     },
     "execution_count": 29,
     "metadata": {},
     "output_type": "execute_result"
    }
   ],
   "source": [
    "list ={'name':name,'address':address}\n",
    "df =pd.DataFrame(list)\n",
    "df.head()"
   ]
  },
  {
   "cell_type": "code",
   "execution_count": null,
   "id": "a98da9be",
   "metadata": {},
   "outputs": [],
   "source": []
  }
 ],
 "metadata": {
  "kernelspec": {
   "display_name": "Python 3 (ipykernel)",
   "language": "python",
   "name": "python3"
  },
  "language_info": {
   "codemirror_mode": {
    "name": "ipython",
    "version": 3
   },
   "file_extension": ".py",
   "mimetype": "text/x-python",
   "name": "python",
   "nbconvert_exporter": "python",
   "pygments_lexer": "ipython3",
   "version": "3.9.13"
  }
 },
 "nbformat": 4,
 "nbformat_minor": 5
}
